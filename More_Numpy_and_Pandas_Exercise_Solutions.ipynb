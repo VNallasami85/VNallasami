{
  "nbformat": 4,
  "nbformat_minor": 0,
  "metadata": {
    "colab": {
      "name": "More Numpy and Pandas Exercise Solutions.ipynb",
      "provenance": [],
      "collapsed_sections": [],
      "include_colab_link": true
    },
    "kernelspec": {
      "display_name": "Python 3",
      "language": "python",
      "name": "python3"
    }
  },
  "cells": [
    {
      "cell_type": "markdown",
      "metadata": {
        "id": "view-in-github",
        "colab_type": "text"
      },
      "source": [
        "<a href=\"https://colab.research.google.com/github/VNallasami85/VNallasami/blob/master/More_Numpy_and_Pandas_Exercise_Solutions.ipynb\" target=\"_parent\"><img src=\"https://colab.research.google.com/assets/colab-badge.svg\" alt=\"Open In Colab\"/></a>"
      ]
    },
    {
      "cell_type": "markdown",
      "metadata": {
        "id": "uCSSmMYmSexS",
        "colab_type": "text"
      },
      "source": [
        "![sslogo](https://github.com/stratascratch/stratascratch.github.io/raw/master/assets/sslogo.jpg)"
      ]
    },
    {
      "cell_type": "markdown",
      "metadata": {
        "id": "ak45YBt3kNFT",
        "colab_type": "text"
      },
      "source": [
        "# A Few More Numpy and Pandas Exercises \n"
      ]
    },
    {
      "cell_type": "markdown",
      "metadata": {
        "id": "X9AjTbNAYPCo",
        "colab_type": "text"
      },
      "source": [
        "To edit this notebook:\n",
        "- Save the notebook by selecting `Download .ipynb` from the `File` tab\n",
        "- Go to [Colaboratory](https://colab.research.google.com/) and upload the notebook from the `File` tab\n",
        "- Alternatively, you can import the notebook to your Google Drive and select `Open with` when you right-click. Select `Colaboratory` or `+ Connect more apps` to install Colaboratory first"
      ]
    },
    {
      "cell_type": "markdown",
      "metadata": {
        "id": "gpr7BZHPkNFU",
        "colab_type": "text"
      },
      "source": [
        "#### Import Numpy and Pandas"
      ]
    },
    {
      "cell_type": "code",
      "metadata": {
        "id": "eIFfnK0ZkNFV",
        "colab_type": "code",
        "colab": {}
      },
      "source": [
        "import numpy as np\n",
        "import pandas as pd"
      ],
      "execution_count": 0,
      "outputs": []
    },
    {
      "cell_type": "markdown",
      "metadata": {
        "id": "jM092gTAkNFY",
        "colab_type": "text"
      },
      "source": [
        "#### Create an array of 64 values starting with 10 and ending with 15 and assign it to x\n",
        "\n",
        "Remember: The third parameter to linspace is the number of values to obtain from the real line interval starting from 10 to 15 in this case."
      ]
    },
    {
      "cell_type": "code",
      "metadata": {
        "id": "KOOMsYsUkNFZ",
        "colab_type": "code",
        "outputId": "234b36ac-c495-406f-989f-ad49ab29d243",
        "colab": {
          "base_uri": "https://localhost:8080/",
          "height": 238
        }
      },
      "source": [
        "x = np.linspace(10,15,64)\n",
        "x"
      ],
      "execution_count": 0,
      "outputs": [
        {
          "output_type": "execute_result",
          "data": {
            "text/plain": [
              "array([10.        , 10.07936508, 10.15873016, 10.23809524, 10.31746032,\n",
              "       10.3968254 , 10.47619048, 10.55555556, 10.63492063, 10.71428571,\n",
              "       10.79365079, 10.87301587, 10.95238095, 11.03174603, 11.11111111,\n",
              "       11.19047619, 11.26984127, 11.34920635, 11.42857143, 11.50793651,\n",
              "       11.58730159, 11.66666667, 11.74603175, 11.82539683, 11.9047619 ,\n",
              "       11.98412698, 12.06349206, 12.14285714, 12.22222222, 12.3015873 ,\n",
              "       12.38095238, 12.46031746, 12.53968254, 12.61904762, 12.6984127 ,\n",
              "       12.77777778, 12.85714286, 12.93650794, 13.01587302, 13.0952381 ,\n",
              "       13.17460317, 13.25396825, 13.33333333, 13.41269841, 13.49206349,\n",
              "       13.57142857, 13.65079365, 13.73015873, 13.80952381, 13.88888889,\n",
              "       13.96825397, 14.04761905, 14.12698413, 14.20634921, 14.28571429,\n",
              "       14.36507937, 14.44444444, 14.52380952, 14.6031746 , 14.68253968,\n",
              "       14.76190476, 14.84126984, 14.92063492, 15.        ])"
            ]
          },
          "metadata": {
            "tags": []
          },
          "execution_count": 30
        }
      ]
    },
    {
      "cell_type": "markdown",
      "metadata": {
        "id": "wWskZCSPkNFb",
        "colab_type": "text"
      },
      "source": [
        "#### Create a random shuffled array of values that include the range of values from 0 to 63 and assign to a variable called indices"
      ]
    },
    {
      "cell_type": "code",
      "metadata": {
        "id": "OuWysjiwkNFc",
        "colab_type": "code",
        "outputId": "1e4d81a4-498c-465f-a1ac-81c67ff670f3",
        "colab": {
          "base_uri": "https://localhost:8080/",
          "height": 85
        }
      },
      "source": [
        "indices = np.random.permutation(64)\n",
        "indices"
      ],
      "execution_count": 0,
      "outputs": [
        {
          "output_type": "execute_result",
          "data": {
            "text/plain": [
              "array([43, 32,  2, 18, 14,  0, 56, 27, 61,  5, 26, 28, 49, 31, 52, 22, 36,\n",
              "        3, 55,  8, 58, 25, 17, 12, 30,  6, 39, 60, 21, 51, 63, 40,  4, 48,\n",
              "       19, 46, 34, 38, 50, 53, 10, 47, 44, 35, 59,  7, 11, 45, 29, 62, 23,\n",
              "        9, 57, 54, 42, 37, 13, 24, 20, 15, 16, 41,  1, 33])"
            ]
          },
          "metadata": {
            "tags": []
          },
          "execution_count": 31
        }
      ]
    },
    {
      "cell_type": "markdown",
      "metadata": {
        "id": "A917V3UUkNFe",
        "colab_type": "text"
      },
      "source": [
        "#### Shuffle the data in x using the values in indices"
      ]
    },
    {
      "cell_type": "code",
      "metadata": {
        "id": "Fyb9q242kNFf",
        "colab_type": "code",
        "outputId": "b1f0484d-236b-4613-fd7c-9bc35d29d574",
        "colab": {
          "base_uri": "https://localhost:8080/",
          "height": 238
        }
      },
      "source": [
        "x[indices]"
      ],
      "execution_count": 0,
      "outputs": [
        {
          "output_type": "execute_result",
          "data": {
            "text/plain": [
              "array([13.41269841, 12.53968254, 10.15873016, 11.42857143, 11.11111111,\n",
              "       10.        , 14.44444444, 12.14285714, 14.84126984, 10.3968254 ,\n",
              "       12.06349206, 12.22222222, 13.88888889, 12.46031746, 14.12698413,\n",
              "       11.74603175, 12.85714286, 10.23809524, 14.36507937, 10.63492063,\n",
              "       14.6031746 , 11.98412698, 11.34920635, 10.95238095, 12.38095238,\n",
              "       10.47619048, 13.0952381 , 14.76190476, 11.66666667, 14.04761905,\n",
              "       15.        , 13.17460317, 10.31746032, 13.80952381, 11.50793651,\n",
              "       13.65079365, 12.6984127 , 13.01587302, 13.96825397, 14.20634921,\n",
              "       10.79365079, 13.73015873, 13.49206349, 12.77777778, 14.68253968,\n",
              "       10.55555556, 10.87301587, 13.57142857, 12.3015873 , 14.92063492,\n",
              "       11.82539683, 10.71428571, 14.52380952, 14.28571429, 13.33333333,\n",
              "       12.93650794, 11.03174603, 11.9047619 , 11.58730159, 11.19047619,\n",
              "       11.26984127, 13.25396825, 10.07936508, 12.61904762])"
            ]
          },
          "metadata": {
            "tags": []
          },
          "execution_count": 32
        }
      ]
    },
    {
      "cell_type": "markdown",
      "metadata": {
        "id": "kFDqiVKKkNFi",
        "colab_type": "text"
      },
      "source": [
        "#### Reshape x into a 3-Dimensional Array"
      ]
    },
    {
      "cell_type": "code",
      "metadata": {
        "id": "hmYUTRVQkNFj",
        "colab_type": "code",
        "outputId": "bba13897-45f0-4755-af28-d6071cc70467",
        "colab": {
          "base_uri": "https://localhost:8080/",
          "height": 340
        }
      },
      "source": [
        "x.reshape(4,4,4)"
      ],
      "execution_count": 0,
      "outputs": [
        {
          "output_type": "execute_result",
          "data": {
            "text/plain": [
              "array([[[10.        , 10.07936508, 10.15873016, 10.23809524],\n",
              "        [10.31746032, 10.3968254 , 10.47619048, 10.55555556],\n",
              "        [10.63492063, 10.71428571, 10.79365079, 10.87301587],\n",
              "        [10.95238095, 11.03174603, 11.11111111, 11.19047619]],\n",
              "\n",
              "       [[11.26984127, 11.34920635, 11.42857143, 11.50793651],\n",
              "        [11.58730159, 11.66666667, 11.74603175, 11.82539683],\n",
              "        [11.9047619 , 11.98412698, 12.06349206, 12.14285714],\n",
              "        [12.22222222, 12.3015873 , 12.38095238, 12.46031746]],\n",
              "\n",
              "       [[12.53968254, 12.61904762, 12.6984127 , 12.77777778],\n",
              "        [12.85714286, 12.93650794, 13.01587302, 13.0952381 ],\n",
              "        [13.17460317, 13.25396825, 13.33333333, 13.41269841],\n",
              "        [13.49206349, 13.57142857, 13.65079365, 13.73015873]],\n",
              "\n",
              "       [[13.80952381, 13.88888889, 13.96825397, 14.04761905],\n",
              "        [14.12698413, 14.20634921, 14.28571429, 14.36507937],\n",
              "        [14.44444444, 14.52380952, 14.6031746 , 14.68253968],\n",
              "        [14.76190476, 14.84126984, 14.92063492, 15.        ]]])"
            ]
          },
          "metadata": {
            "tags": []
          },
          "execution_count": 33
        }
      ]
    },
    {
      "cell_type": "markdown",
      "metadata": {
        "id": "He8k7JohkNFl",
        "colab_type": "text"
      },
      "source": [
        "#### Pull the Titanic dataset from the Strata Scratch platform"
      ]
    },
    {
      "cell_type": "code",
      "metadata": {
        "id": "ejJWVOk2kNFm",
        "colab_type": "code",
        "outputId": "10e082c9-a476-4beb-f764-e3a401bf67ec",
        "colab": {
          "base_uri": "https://localhost:8080/",
          "height": 88
        }
      },
      "source": [
        "#code is copy and pasted from the Connect to Strata Scratch with Python.ipynb notebook\n",
        "\n",
        "!pip install psycopg2\n",
        "import psycopg2 as ps"
      ],
      "execution_count": 0,
      "outputs": [
        {
          "output_type": "stream",
          "text": [
            "Requirement already satisfied: psycopg2 in /usr/local/lib/python3.6/dist-packages (2.7.5)\r\n"
          ],
          "name": "stdout"
        },
        {
          "output_type": "stream",
          "text": [
            "/usr/local/lib/python3.6/dist-packages/psycopg2/__init__.py:144: UserWarning: The psycopg2 wheel package will be renamed from release 2.8; in order to keep installing from binary please use \"pip install psycopg2-binary\" instead. For details see: <http://initd.org/psycopg/docs/install.html#binary-install-from-pypi>.\n",
            "  \"\"\")\n"
          ],
          "name": "stderr"
        }
      ]
    },
    {
      "cell_type": "code",
      "metadata": {
        "id": "MARdAQ8uTNUT",
        "colab_type": "code",
        "outputId": "26b2fc47-554b-41a4-c74e-e47754895eaf",
        "colab": {
          "base_uri": "https://localhost:8080/",
          "height": 34
        }
      },
      "source": [
        "host_name = 'db-strata.stratascratch.com'\n",
        "dbname = 'db_strata'\n",
        "port = '5432'\n",
        "user_name = '' #enter username\n",
        "pwd = '' #enter your database password found in the profile tab in Strata Scratch\n",
        "\n",
        "try:\n",
        "    conn = ps.connect(host=host_name,database=dbname,user=user_name,password=pwd,port=port)\n",
        "except ps.OperationalError as e:\n",
        "    raise e\n",
        "else:\n",
        "    print('Connected!')"
      ],
      "execution_count": 0,
      "outputs": [
        {
          "output_type": "stream",
          "text": [
            "Connected!\n"
          ],
          "name": "stdout"
        }
      ]
    },
    {
      "cell_type": "code",
      "metadata": {
        "id": "5jQXCXwqTPcT",
        "colab_type": "code",
        "colab": {}
      },
      "source": [
        "#Write SQL below to pull datasets \n",
        "cur = conn.cursor()\n",
        "cur.execute(\"\"\" \n",
        "            SELECT *  FROM titanic; \n",
        "            \"\"\")\n",
        "data = cur.fetchall()\n",
        "colnames = [desc[0] for desc in cur.description] \n",
        "conn.commit()\n",
        "\n",
        "#create the pandas dataframe\n",
        "data = pd.DataFrame(data)\n",
        "data.columns = colnames\n",
        "\n",
        "#close the connection\n",
        "cur.close()"
      ],
      "execution_count": 0,
      "outputs": []
    },
    {
      "cell_type": "markdown",
      "metadata": {
        "id": "JzDrUz6SkNFr",
        "colab_type": "text"
      },
      "source": [
        "#### Investigate the DataFrame (e.g., Check first 5 rows of data, data types and review any summary statistics)"
      ]
    },
    {
      "cell_type": "code",
      "metadata": {
        "id": "qmaA8B7ukNFs",
        "colab_type": "code",
        "outputId": "3193584d-145b-4e55-e30b-f64e757605cd",
        "colab": {
          "base_uri": "https://localhost:8080/",
          "height": 204
        }
      },
      "source": [
        "data.head()"
      ],
      "execution_count": 0,
      "outputs": [
        {
          "output_type": "execute_result",
          "data": {
            "text/html": [
              "<div>\n",
              "<style scoped>\n",
              "    .dataframe tbody tr th:only-of-type {\n",
              "        vertical-align: middle;\n",
              "    }\n",
              "\n",
              "    .dataframe tbody tr th {\n",
              "        vertical-align: top;\n",
              "    }\n",
              "\n",
              "    .dataframe thead th {\n",
              "        text-align: right;\n",
              "    }\n",
              "</style>\n",
              "<table border=\"1\" class=\"dataframe\">\n",
              "  <thead>\n",
              "    <tr style=\"text-align: right;\">\n",
              "      <th></th>\n",
              "      <th>passengerid</th>\n",
              "      <th>survived</th>\n",
              "      <th>pclass</th>\n",
              "      <th>name</th>\n",
              "      <th>sex</th>\n",
              "      <th>age</th>\n",
              "      <th>sibsp</th>\n",
              "      <th>parch</th>\n",
              "      <th>ticket</th>\n",
              "      <th>fare</th>\n",
              "      <th>cabin</th>\n",
              "      <th>embarked</th>\n",
              "    </tr>\n",
              "  </thead>\n",
              "  <tbody>\n",
              "    <tr>\n",
              "      <th>0</th>\n",
              "      <td>1</td>\n",
              "      <td>0</td>\n",
              "      <td>3</td>\n",
              "      <td>Braund, Mr. Owen Harris</td>\n",
              "      <td>male</td>\n",
              "      <td>22</td>\n",
              "      <td>1</td>\n",
              "      <td>0</td>\n",
              "      <td>A/5 21171</td>\n",
              "      <td>7.2500</td>\n",
              "      <td>None</td>\n",
              "      <td>S</td>\n",
              "    </tr>\n",
              "    <tr>\n",
              "      <th>1</th>\n",
              "      <td>2</td>\n",
              "      <td>1</td>\n",
              "      <td>1</td>\n",
              "      <td>Cumings, Mrs. John Bradley (Florence Briggs Th...</td>\n",
              "      <td>female</td>\n",
              "      <td>38</td>\n",
              "      <td>1</td>\n",
              "      <td>0</td>\n",
              "      <td>PC 17599</td>\n",
              "      <td>71.2833</td>\n",
              "      <td>C85</td>\n",
              "      <td>C</td>\n",
              "    </tr>\n",
              "    <tr>\n",
              "      <th>2</th>\n",
              "      <td>3</td>\n",
              "      <td>1</td>\n",
              "      <td>3</td>\n",
              "      <td>Heikkinen, Miss. Laina</td>\n",
              "      <td>female</td>\n",
              "      <td>26</td>\n",
              "      <td>0</td>\n",
              "      <td>0</td>\n",
              "      <td>STON/O2. 3101282</td>\n",
              "      <td>7.9250</td>\n",
              "      <td>None</td>\n",
              "      <td>S</td>\n",
              "    </tr>\n",
              "    <tr>\n",
              "      <th>3</th>\n",
              "      <td>4</td>\n",
              "      <td>1</td>\n",
              "      <td>1</td>\n",
              "      <td>Futrelle, Mrs. Jacques Heath (Lily May Peel)</td>\n",
              "      <td>female</td>\n",
              "      <td>35</td>\n",
              "      <td>1</td>\n",
              "      <td>0</td>\n",
              "      <td>113803</td>\n",
              "      <td>53.1000</td>\n",
              "      <td>C123</td>\n",
              "      <td>S</td>\n",
              "    </tr>\n",
              "    <tr>\n",
              "      <th>4</th>\n",
              "      <td>5</td>\n",
              "      <td>0</td>\n",
              "      <td>3</td>\n",
              "      <td>Allen, Mr. William Henry</td>\n",
              "      <td>male</td>\n",
              "      <td>35</td>\n",
              "      <td>0</td>\n",
              "      <td>0</td>\n",
              "      <td>373450</td>\n",
              "      <td>8.0500</td>\n",
              "      <td>None</td>\n",
              "      <td>S</td>\n",
              "    </tr>\n",
              "  </tbody>\n",
              "</table>\n",
              "</div>"
            ],
            "text/plain": [
              "   passengerid  survived  pclass  \\\n",
              "0            1         0       3   \n",
              "1            2         1       1   \n",
              "2            3         1       3   \n",
              "3            4         1       1   \n",
              "4            5         0       3   \n",
              "\n",
              "                                                name     sex age  sibsp  \\\n",
              "0                            Braund, Mr. Owen Harris    male  22      1   \n",
              "1  Cumings, Mrs. John Bradley (Florence Briggs Th...  female  38      1   \n",
              "2                             Heikkinen, Miss. Laina  female  26      0   \n",
              "3       Futrelle, Mrs. Jacques Heath (Lily May Peel)  female  35      1   \n",
              "4                           Allen, Mr. William Henry    male  35      0   \n",
              "\n",
              "   parch            ticket     fare cabin embarked  \n",
              "0      0         A/5 21171   7.2500  None        S  \n",
              "1      0          PC 17599  71.2833   C85        C  \n",
              "2      0  STON/O2. 3101282   7.9250  None        S  \n",
              "3      0            113803  53.1000  C123        S  \n",
              "4      0            373450   8.0500  None        S  "
            ]
          },
          "metadata": {
            "tags": []
          },
          "execution_count": 14
        }
      ]
    },
    {
      "cell_type": "code",
      "metadata": {
        "id": "ynjxNrT6Tj4r",
        "colab_type": "code",
        "outputId": "a5b4fd7d-6519-4fea-f864-28c728c46ba9",
        "colab": {
          "base_uri": "https://localhost:8080/",
          "height": 306
        }
      },
      "source": [
        "data.info()"
      ],
      "execution_count": 0,
      "outputs": [
        {
          "output_type": "stream",
          "text": [
            "<class 'pandas.core.frame.DataFrame'>\n",
            "RangeIndex: 891 entries, 0 to 890\n",
            "Data columns (total 12 columns):\n",
            "passengerid    891 non-null int64\n",
            "survived       891 non-null int64\n",
            "pclass         891 non-null int64\n",
            "name           891 non-null object\n",
            "sex            891 non-null object\n",
            "age            714 non-null object\n",
            "sibsp          891 non-null int64\n",
            "parch          891 non-null int64\n",
            "ticket         891 non-null object\n",
            "fare           891 non-null float64\n",
            "cabin          204 non-null object\n",
            "embarked       889 non-null object\n",
            "dtypes: float64(1), int64(5), object(6)\n",
            "memory usage: 83.6+ KB\n"
          ],
          "name": "stdout"
        }
      ]
    },
    {
      "cell_type": "code",
      "metadata": {
        "id": "isE3rKaeTjkv",
        "colab_type": "code",
        "outputId": "7ccad403-4879-4556-ec63-214159f38e5e",
        "colab": {
          "base_uri": "https://localhost:8080/",
          "height": 235
        }
      },
      "source": [
        "# the .T will transpose a dataframe\n",
        "data.describe().T"
      ],
      "execution_count": 0,
      "outputs": [
        {
          "output_type": "execute_result",
          "data": {
            "text/html": [
              "<div>\n",
              "<style scoped>\n",
              "    .dataframe tbody tr th:only-of-type {\n",
              "        vertical-align: middle;\n",
              "    }\n",
              "\n",
              "    .dataframe tbody tr th {\n",
              "        vertical-align: top;\n",
              "    }\n",
              "\n",
              "    .dataframe thead th {\n",
              "        text-align: right;\n",
              "    }\n",
              "</style>\n",
              "<table border=\"1\" class=\"dataframe\">\n",
              "  <thead>\n",
              "    <tr style=\"text-align: right;\">\n",
              "      <th></th>\n",
              "      <th>count</th>\n",
              "      <th>mean</th>\n",
              "      <th>std</th>\n",
              "      <th>min</th>\n",
              "      <th>25%</th>\n",
              "      <th>50%</th>\n",
              "      <th>75%</th>\n",
              "      <th>max</th>\n",
              "    </tr>\n",
              "  </thead>\n",
              "  <tbody>\n",
              "    <tr>\n",
              "      <th>passengerid</th>\n",
              "      <td>891.0</td>\n",
              "      <td>446.000000</td>\n",
              "      <td>257.353842</td>\n",
              "      <td>1.0</td>\n",
              "      <td>223.5000</td>\n",
              "      <td>446.0000</td>\n",
              "      <td>668.5</td>\n",
              "      <td>891.0000</td>\n",
              "    </tr>\n",
              "    <tr>\n",
              "      <th>survived</th>\n",
              "      <td>891.0</td>\n",
              "      <td>0.383838</td>\n",
              "      <td>0.486592</td>\n",
              "      <td>0.0</td>\n",
              "      <td>0.0000</td>\n",
              "      <td>0.0000</td>\n",
              "      <td>1.0</td>\n",
              "      <td>1.0000</td>\n",
              "    </tr>\n",
              "    <tr>\n",
              "      <th>pclass</th>\n",
              "      <td>891.0</td>\n",
              "      <td>2.308642</td>\n",
              "      <td>0.836071</td>\n",
              "      <td>1.0</td>\n",
              "      <td>2.0000</td>\n",
              "      <td>3.0000</td>\n",
              "      <td>3.0</td>\n",
              "      <td>3.0000</td>\n",
              "    </tr>\n",
              "    <tr>\n",
              "      <th>sibsp</th>\n",
              "      <td>891.0</td>\n",
              "      <td>0.523008</td>\n",
              "      <td>1.102743</td>\n",
              "      <td>0.0</td>\n",
              "      <td>0.0000</td>\n",
              "      <td>0.0000</td>\n",
              "      <td>1.0</td>\n",
              "      <td>8.0000</td>\n",
              "    </tr>\n",
              "    <tr>\n",
              "      <th>parch</th>\n",
              "      <td>891.0</td>\n",
              "      <td>0.381594</td>\n",
              "      <td>0.806057</td>\n",
              "      <td>0.0</td>\n",
              "      <td>0.0000</td>\n",
              "      <td>0.0000</td>\n",
              "      <td>0.0</td>\n",
              "      <td>6.0000</td>\n",
              "    </tr>\n",
              "    <tr>\n",
              "      <th>fare</th>\n",
              "      <td>891.0</td>\n",
              "      <td>32.204208</td>\n",
              "      <td>49.693429</td>\n",
              "      <td>0.0</td>\n",
              "      <td>7.9104</td>\n",
              "      <td>14.4542</td>\n",
              "      <td>31.0</td>\n",
              "      <td>512.3292</td>\n",
              "    </tr>\n",
              "  </tbody>\n",
              "</table>\n",
              "</div>"
            ],
            "text/plain": [
              "             count        mean         std  min       25%       50%    75%  \\\n",
              "passengerid  891.0  446.000000  257.353842  1.0  223.5000  446.0000  668.5   \n",
              "survived     891.0    0.383838    0.486592  0.0    0.0000    0.0000    1.0   \n",
              "pclass       891.0    2.308642    0.836071  1.0    2.0000    3.0000    3.0   \n",
              "sibsp        891.0    0.523008    1.102743  0.0    0.0000    0.0000    1.0   \n",
              "parch        891.0    0.381594    0.806057  0.0    0.0000    0.0000    0.0   \n",
              "fare         891.0   32.204208   49.693429  0.0    7.9104   14.4542   31.0   \n",
              "\n",
              "                  max  \n",
              "passengerid  891.0000  \n",
              "survived       1.0000  \n",
              "pclass         3.0000  \n",
              "sibsp          8.0000  \n",
              "parch          6.0000  \n",
              "fare         512.3292  "
            ]
          },
          "metadata": {
            "tags": []
          },
          "execution_count": 16
        }
      ]
    },
    {
      "cell_type": "markdown",
      "metadata": {
        "id": "R90sqdFckNFv",
        "colab_type": "text"
      },
      "source": [
        "#### What was the survival rate for men over the age of 50 in first class?\n",
        "\n",
        "The survival rate is calculated as the mean of the survived column.\n",
        "\n",
        "To have a survival rate which is based on some parameters we need to filter the values in that column and then take the mean.\n",
        "\n",
        "Our filter in this case is predicate made by AND-ing 3 predicates.\n",
        "\n",
        "The first predicate is `data.sex == 'male'`, second one is `data.age > 50` and third one is `data.pcall == 1`\n",
        "\n",
        "The key to solving any exercise like this one is to look at the columns and the values each column can take and think of the final predicate in terms of AND, OR and NOT (you can use `~predicate_array` to obtain a logical inversion of the predicate).\n",
        "\n",
        "First we find all men using `data.sex == 'male'`.\n",
        "\n",
        "Then we need to find all over the age of 50. We do that by using `data.age > 50`. \n",
        "\n",
        "To answer the question all mean over the age of 50 we combine the two predicates with &.\n",
        "\n",
        "Finally we also answer the question of being in the first class via the predicate `data.pclass==1`.\n",
        "\n",
        "In the end we answer the whole question by & the results of the first two predicate and the third one."
      ]
    },
    {
      "cell_type": "code",
      "metadata": {
        "id": "O2b3y0JTkNFw",
        "colab_type": "code",
        "outputId": "067950ca-3a19-409e-ea5f-85c8096ef97d",
        "colab": {
          "base_uri": "https://localhost:8080/",
          "height": 34
        }
      },
      "source": [
        "data['survived'][(data.sex=='male')&(data.age>50)&(data.pclass==1)].mean()"
      ],
      "execution_count": 0,
      "outputs": [
        {
          "output_type": "execute_result",
          "data": {
            "text/plain": [
              "0.19230769230769232"
            ]
          },
          "metadata": {
            "tags": []
          },
          "execution_count": 17
        }
      ]
    },
    {
      "cell_type": "markdown",
      "metadata": {
        "id": "YjE7HCtlkNF0",
        "colab_type": "text"
      },
      "source": [
        "#### Using groupby, count the number of passengers by Sex, Pclass and Survived (Hint: use three columns for group by)\n",
        "\n",
        "This is similar to the following SQL query.\n",
        "\n",
        "`SELECT COUNT(passengerid)\n",
        "FROM titanic\n",
        "GROUPBY sex, pclass, survived`"
      ]
    },
    {
      "cell_type": "code",
      "metadata": {
        "id": "y2Mwp1fgkNF0",
        "colab_type": "code",
        "outputId": "14629aa0-0364-4e2e-c16a-f30dc5d477ff",
        "colab": {
          "base_uri": "https://localhost:8080/",
          "height": 452
        }
      },
      "source": [
        "data.groupby(['sex','pclass','survived'])[['passengerid']].count()"
      ],
      "execution_count": 0,
      "outputs": [
        {
          "output_type": "execute_result",
          "data": {
            "text/html": [
              "<div>\n",
              "<style scoped>\n",
              "    .dataframe tbody tr th:only-of-type {\n",
              "        vertical-align: middle;\n",
              "    }\n",
              "\n",
              "    .dataframe tbody tr th {\n",
              "        vertical-align: top;\n",
              "    }\n",
              "\n",
              "    .dataframe thead th {\n",
              "        text-align: right;\n",
              "    }\n",
              "</style>\n",
              "<table border=\"1\" class=\"dataframe\">\n",
              "  <thead>\n",
              "    <tr style=\"text-align: right;\">\n",
              "      <th></th>\n",
              "      <th></th>\n",
              "      <th></th>\n",
              "      <th>passengerid</th>\n",
              "    </tr>\n",
              "    <tr>\n",
              "      <th>sex</th>\n",
              "      <th>pclass</th>\n",
              "      <th>survived</th>\n",
              "      <th></th>\n",
              "    </tr>\n",
              "  </thead>\n",
              "  <tbody>\n",
              "    <tr>\n",
              "      <th rowspan=\"6\" valign=\"top\">female</th>\n",
              "      <th rowspan=\"2\" valign=\"top\">1</th>\n",
              "      <th>0</th>\n",
              "      <td>3</td>\n",
              "    </tr>\n",
              "    <tr>\n",
              "      <th>1</th>\n",
              "      <td>91</td>\n",
              "    </tr>\n",
              "    <tr>\n",
              "      <th rowspan=\"2\" valign=\"top\">2</th>\n",
              "      <th>0</th>\n",
              "      <td>6</td>\n",
              "    </tr>\n",
              "    <tr>\n",
              "      <th>1</th>\n",
              "      <td>70</td>\n",
              "    </tr>\n",
              "    <tr>\n",
              "      <th rowspan=\"2\" valign=\"top\">3</th>\n",
              "      <th>0</th>\n",
              "      <td>72</td>\n",
              "    </tr>\n",
              "    <tr>\n",
              "      <th>1</th>\n",
              "      <td>72</td>\n",
              "    </tr>\n",
              "    <tr>\n",
              "      <th rowspan=\"6\" valign=\"top\">male</th>\n",
              "      <th rowspan=\"2\" valign=\"top\">1</th>\n",
              "      <th>0</th>\n",
              "      <td>77</td>\n",
              "    </tr>\n",
              "    <tr>\n",
              "      <th>1</th>\n",
              "      <td>45</td>\n",
              "    </tr>\n",
              "    <tr>\n",
              "      <th rowspan=\"2\" valign=\"top\">2</th>\n",
              "      <th>0</th>\n",
              "      <td>91</td>\n",
              "    </tr>\n",
              "    <tr>\n",
              "      <th>1</th>\n",
              "      <td>17</td>\n",
              "    </tr>\n",
              "    <tr>\n",
              "      <th rowspan=\"2\" valign=\"top\">3</th>\n",
              "      <th>0</th>\n",
              "      <td>300</td>\n",
              "    </tr>\n",
              "    <tr>\n",
              "      <th>1</th>\n",
              "      <td>47</td>\n",
              "    </tr>\n",
              "  </tbody>\n",
              "</table>\n",
              "</div>"
            ],
            "text/plain": [
              "                        passengerid\n",
              "sex    pclass survived             \n",
              "female 1      0                   3\n",
              "              1                  91\n",
              "       2      0                   6\n",
              "              1                  70\n",
              "       3      0                  72\n",
              "              1                  72\n",
              "male   1      0                  77\n",
              "              1                  45\n",
              "       2      0                  91\n",
              "              1                  17\n",
              "       3      0                 300\n",
              "              1                  47"
            ]
          },
          "metadata": {
            "tags": []
          },
          "execution_count": 19
        }
      ]
    },
    {
      "cell_type": "markdown",
      "metadata": {
        "id": "WDcZwRVvkNF2",
        "colab_type": "text"
      },
      "source": [
        "#### Create a pipe delimited csv with only the names and ages of the 10 oldest surivors.\n",
        "\n",
        "Finding 10 oldest means taking the first ten rows of a dataframe after sorting by age in a descending order.\n",
        "\n",
        "But first we need to find the survivors which is what line 1 does.\n",
        "\n",
        "Line 2 sorts the data so on line 3 we can take the first 10 using `.iloc[:10]` (reember `:10` is short for `0:10`)\n",
        "\n",
        "On line 3 we also take only the name and age columns.\n",
        "\n",
        "Finally on line 4 we write the output to csv using the pipe as column separator (`sep='|'`).\n",
        "\n",
        "`index=False` means that the dataframe index will not be written to the file. "
      ]
    },
    {
      "cell_type": "code",
      "metadata": {
        "id": "3R9Agk1TkNF2",
        "colab_type": "code",
        "outputId": "c2ecb7a5-4ae6-411c-a575-e5a517fdfe93",
        "colab": {
          "base_uri": "https://localhost:8080/",
          "height": 102
        }
      },
      "source": [
        "survivors = data[data.survived==1]\n",
        "survivors.sort_values('age',ascending=False, inplace=True)\n",
        "top_survivors = survivors[['name','age']].iloc[:10]\n",
        "top_survivors.to_csv('titanic_10_oldest_survivors.csv', sep='|',index=False)"
      ],
      "execution_count": 0,
      "outputs": [
        {
          "output_type": "stream",
          "text": [
            "/usr/local/lib/python3.6/dist-packages/ipykernel_launcher.py:2: SettingWithCopyWarning: \n",
            "A value is trying to be set on a copy of a slice from a DataFrame\n",
            "\n",
            "See the caveats in the documentation: http://pandas.pydata.org/pandas-docs/stable/indexing.html#indexing-view-versus-copy\n",
            "  \n"
          ],
          "name": "stderr"
        }
      ]
    },
    {
      "cell_type": "markdown",
      "metadata": {
        "id": "xzDCy9pbU6Vw",
        "colab_type": "text"
      },
      "source": [
        "**Perform an `ls` to see if the file was created**"
      ]
    },
    {
      "cell_type": "code",
      "metadata": {
        "id": "D4vaAn6rUPzi",
        "colab_type": "code",
        "outputId": "e7b9dc4c-da49-4900-c65c-d69e4a4147d6",
        "colab": {
          "base_uri": "https://localhost:8080/",
          "height": 34
        }
      },
      "source": [
        "!ls"
      ],
      "execution_count": 0,
      "outputs": [
        {
          "output_type": "stream",
          "text": [
            "datalab  titanic_10_oldest_survivors.csv\r\n"
          ],
          "name": "stdout"
        }
      ]
    },
    {
      "cell_type": "markdown",
      "metadata": {
        "id": "1aPqEWcbU1bt",
        "colab_type": "text"
      },
      "source": [
        "**Download the file to your local computer**"
      ]
    },
    {
      "cell_type": "code",
      "metadata": {
        "id": "YiBMi68NURqA",
        "colab_type": "code",
        "colab": {}
      },
      "source": [
        "from google.colab import files\n",
        "files.download('titanic_10_oldest_survivors.csv')"
      ],
      "execution_count": 0,
      "outputs": []
    }
  ]
}